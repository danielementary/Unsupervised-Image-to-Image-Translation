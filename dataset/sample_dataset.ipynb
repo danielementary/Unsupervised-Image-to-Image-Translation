{
 "cells": [
  {
   "cell_type": "code",
   "execution_count": 1,
   "metadata": {},
   "outputs": [],
   "source": [
    "from zipfile import ZipFile\n",
    "import os\n",
    "import numpy as np\n",
    "from PIL import Image"
   ]
  },
  {
   "cell_type": "code",
   "execution_count": 2,
   "metadata": {},
   "outputs": [],
   "source": [
    "#filename = \"INIT_dataset/Rainy.zip\""
   ]
  },
  {
   "cell_type": "code",
   "execution_count": 3,
   "metadata": {},
   "outputs": [],
   "source": [
    "#with ZipFile(filename, 'r') as zip:\n",
    "#    zip.extractall(\"INIT_dataset/Rainy\")"
   ]
  },
  {
   "cell_type": "code",
   "execution_count": 2,
   "metadata": {},
   "outputs": [
    {
     "data": {
      "text/plain": [
       "['to_delete.txt',\n",
       " 'remove.sh',\n",
       " 'rainy1.txt',\n",
       " '.ipynb_checkpoints',\n",
       " 'cloudy',\n",
       " 'night',\n",
       " 'rainy',\n",
       " 'sunny',\n",
       " 'rainy_list.txt',\n",
       " 'night_list.txt',\n",
       " 'sunny_list.txt',\n",
       " 'cloudy_list.txt',\n",
       " 'extract_object_imgs_from_bboxes.ipynb',\n",
       " 'rainy_cars',\n",
       " 'rainy_people',\n",
       " 'rainy_signs',\n",
       " 'Untitled.ipynb',\n",
       " 'cloudy1.txt',\n",
       " 'sunny1.txt',\n",
       " 'night1.txt',\n",
       " 'night_cars',\n",
       " 'night_people',\n",
       " 'night_signs',\n",
       " 'sunny_cars',\n",
       " 'sunny_signs',\n",
       " 'sunny_people',\n",
       " 'cloudy_cars',\n",
       " 'cloudy_signs',\n",
       " 'cloudy_people',\n",
       " 'ssd',\n",
       " 'apply_retinanet_on_dataset.ipynb']"
      ]
     },
     "execution_count": 2,
     "metadata": {},
     "output_type": "execute_result"
    }
   ],
   "source": [
    "os.listdir('INIT_dataset')"
   ]
  },
  {
   "cell_type": "code",
   "execution_count": 6,
   "metadata": {},
   "outputs": [
    {
     "name": "stdout",
     "output_type": "stream",
     "text": [
      "12723\n"
     ]
    }
   ],
   "source": [
    "imgs = []\n",
    "for root, dirs, files in os.walk('INIT_dataset/cloudy'):\n",
    "    for i in files:\n",
    "        imgs.append(os.path.join(root, i))\n",
    "print(len(imgs))"
   ]
  },
  {
   "cell_type": "code",
   "execution_count": 14,
   "metadata": {},
   "outputs": [
    {
     "data": {
      "text/plain": [
       "(2226,)"
      ]
     },
     "execution_count": 14,
     "metadata": {},
     "output_type": "execute_result"
    }
   ],
   "source": [
    "imgs = np.array(imgs)\n",
    "imgs.shape"
   ]
  },
  {
   "cell_type": "code",
   "execution_count": 16,
   "metadata": {},
   "outputs": [
    {
     "data": {
      "text/plain": [
       "'INIT_dataset/rainy/video_data_20180828/jig_KYT01/20180808_KYT/dw_2018_08_08_10-56-09_000000_20fps_bae/camera_2_center_fov60.h264/2_00585.png'"
      ]
     },
     "execution_count": 16,
     "metadata": {},
     "output_type": "execute_result"
    }
   ],
   "source": [
    "imgs[0]"
   ]
  },
  {
   "cell_type": "code",
   "execution_count": 17,
   "metadata": {},
   "outputs": [
    {
     "data": {
      "text/plain": [
       "'INIT_dataset/rainy/video_data_20180803/jig_TYO01/20180704_TYO/dw_2018_07_04_20-07-07_000000_20fps_bae/camera_2_center_fov60.h264/10_01143.png'"
      ]
     },
     "execution_count": 17,
     "metadata": {},
     "output_type": "execute_result"
    }
   ],
   "source": [
    "np.random.shuffle(imgs)\n",
    "imgs[0]"
   ]
  },
  {
   "cell_type": "code",
   "execution_count": 25,
   "metadata": {},
   "outputs": [],
   "source": [
    "im = Image.open(imgs[0])"
   ]
  },
  {
   "cell_type": "code",
   "execution_count": 29,
   "metadata": {},
   "outputs": [],
   "source": [
    "im.save(\"test_img.jpg\")"
   ]
  },
  {
   "cell_type": "code",
   "execution_count": 45,
   "metadata": {},
   "outputs": [],
   "source": [
    "def take_n_images_on_dataset(n, path_to_dir='INIT_dataset/rainy', output='output2'):\n",
    "    if not os.path.exists(output):\n",
    "        os.mkdir(output)\n",
    "        \n",
    "    imgs = []\n",
    "    for root, dirs, files in os.walk(path_to_dir):\n",
    "        for i in files:\n",
    "            imgs.append(os.path.join(root, i))\n",
    "    \n",
    "    print(\"Number of images : \" + str(len(imgs)))\n",
    "    \n",
    "    imgs = np.array(imgs)\n",
    "    np.random.shuffle(imgs)\n",
    "    imgs = imgs[:n]\n",
    "    \n",
    "    for i in range(0, n):\n",
    "        im = Image.open(imgs[i])\n",
    "        im.save(output+'/'+os.path.basename(imgs[i]))\n",
    "        print(\"writing image \" + str(i) + \" in \" + output)"
   ]
  },
  {
   "cell_type": "code",
   "execution_count": 31,
   "metadata": {},
   "outputs": [],
   "source": [
    "os.mkdir(\"test_dir\")"
   ]
  },
  {
   "cell_type": "code",
   "execution_count": 32,
   "metadata": {},
   "outputs": [
    {
     "data": {
      "text/plain": [
       "'10_01143.png'"
      ]
     },
     "execution_count": 32,
     "metadata": {},
     "output_type": "execute_result"
    }
   ],
   "source": [
    "os.path.basename(imgs[0])"
   ]
  },
  {
   "cell_type": "code",
   "execution_count": 46,
   "metadata": {},
   "outputs": [
    {
     "name": "stdout",
     "output_type": "stream",
     "text": [
      "Number of images : 2226\n",
      "writing image 0 in output2\n",
      "writing image 1 in output2\n",
      "writing image 2 in output2\n",
      "writing image 3 in output2\n",
      "writing image 4 in output2\n"
     ]
    }
   ],
   "source": [
    "take_n_images_on_dataset(5)"
   ]
  },
  {
   "cell_type": "code",
   "execution_count": 49,
   "metadata": {},
   "outputs": [
    {
     "name": "stdout",
     "output_type": "stream",
     "text": [
      "Number of images : 19436\n",
      "writing image 0 in images/test1\n",
      "writing image 1 in images/test1\n",
      "writing image 2 in images/test1\n",
      "writing image 3 in images/test1\n",
      "writing image 4 in images/test1\n"
     ]
    }
   ],
   "source": [
    "#path_out = '/scratch/2021-spring-cs413-team3/Unsupervised-Image-to-Image-Translation/FUNIT/images/test1'\n",
    "take_n_images_on_dataset(5, 'INIT_dataset/sunny', 'images/test1')"
   ]
  },
  {
   "cell_type": "code",
   "execution_count": 50,
   "metadata": {},
   "outputs": [
    {
     "name": "stdout",
     "output_type": "stream",
     "text": [
      "Number of images : 24099\n",
      "writing image 0 in images\n"
     ]
    }
   ],
   "source": [
    "take_n_images_on_dataset(1, 'INIT_dataset/cloudy', 'images')"
   ]
  },
  {
   "cell_type": "code",
   "execution_count": null,
   "metadata": {},
   "outputs": [],
   "source": []
  }
 ],
 "metadata": {
  "kernelspec": {
   "display_name": "Python 3",
   "language": "python",
   "name": "python3"
  },
  "language_info": {
   "codemirror_mode": {
    "name": "ipython",
    "version": 3
   },
   "file_extension": ".py",
   "mimetype": "text/x-python",
   "name": "python",
   "nbconvert_exporter": "python",
   "pygments_lexer": "ipython3",
   "version": "3.8.8"
  }
 },
 "nbformat": 4,
 "nbformat_minor": 4
}
